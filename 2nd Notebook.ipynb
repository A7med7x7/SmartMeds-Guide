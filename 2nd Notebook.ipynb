{
  "nbformat": 4,
  "nbformat_minor": 0,
  "metadata": {
    "colab": {
      "provenance": []
    },
    "kernelspec": {
      "name": "python3",
      "display_name": "Python 3"
    },
    "language_info": {
      "name": "python"
    }
  },
  "cells": [
    {
      "cell_type": "code",
      "source": [
        "#importing all the libraries\n",
        "import pandas as pd\n",
        "import numpy as np\n",
        "import matplotlib.pyplot as plt\n",
        "import seaborn as sns\n",
        "import nltk\n",
        "from nltk.corpus import stopwords\n",
        "import html\n",
        "from sklearn.preprocessing import LabelEncoder\n",
        "\n",
        "nltk.download(['punkt','stopwords'])\n",
        "stopwords = stopwords.words('english')"
      ],
      "metadata": {
        "id": "4ZFFljWE6wHe"
      },
      "execution_count": null,
      "outputs": []
    },
    {
      "cell_type": "markdown",
      "source": [
        "# Encoding"
      ],
      "metadata": {
        "id": "3LChN-lwR7Dd"
      }
    },
    {
      "cell_type": "code",
      "source": [
        "\"\"\"df2.loc[df2['rating'] >=7.0,\"ratingSentimentLabel\"] =\"positive\"\n",
        "df2.loc[(df2['rating'] >=4.0) & (df2['rating']<7.0),\"ratingSentimentLabel\"]= \"neutral\"\n",
        "df2.loc[df2['rating']<=3.0,\"ratingSentimentLabel\"] = \"negative\"\"\"\"\n",
        "#ratingSentimentLabel we need to add this column"
      ],
      "metadata": {
        "id": "4z4T3zKFRacr"
      },
      "execution_count": null,
      "outputs": []
    },
    {
      "cell_type": "code",
      "source": [
        "encoder = LabelEncoder()\n",
        "df2['sentiment_label'] = encoder.fit_transform(df2[\"vaderSentimentLabel\"])\n",
        "df2['condition'] = encoder.fit_transform(df2[\"condition\"])\n",
        "df2['drug_name'] = encoder.fit_transform(df2[\"drug_name\"])\n",
        "df2['sentiment_label'] = encoder.fit_transform(df2[\"ratingSentimentLabel\"])"
      ],
      "metadata": {
        "id": "KCvg2h0iUwd_"
      },
      "execution_count": null,
      "outputs": []
    },
    {
      "cell_type": "code",
      "source": [
        "df2['useful_count'].mean()"
      ],
      "metadata": {
        "id": "imBb3VqIyuJo"
      },
      "execution_count": null,
      "outputs": []
    },
    {
      "cell_type": "code",
      "source": [
        "df2['useful_count_encoded'] = df2['useful_count'].map(lambda x:int(1) if x> 23 else int(0))\n",
        "#can someone check why my code is not working here, it is working but it is not mapping correctly I'm super dizzy at the moment"
      ],
      "metadata": {
        "id": "3FJZCmKPs1Fc"
      },
      "execution_count": null,
      "outputs": []
    },
    {
      "cell_type": "code",
      "source": [
        "df2['Year_encoded'] = df2['Year'].map(lambda x: int(1) if x >2012 else int(0) )\n",
        "#so years above 2012 are considered new"
      ],
      "metadata": {
        "id": "KWMyxcTxuWsl"
      },
      "execution_count": null,
      "outputs": []
    },
    {
      "cell_type": "code",
      "source": [
        "df2.head(10)"
      ],
      "metadata": {
        "id": "byJ3P5VVth_9"
      },
      "execution_count": null,
      "outputs": []
    },
    {
      "cell_type": "code",
      "source": [
        "#selecting useful features\n",
        "df2 = df2[['drug_name','condition','sentiment_label','useful_count_encoded','Year_encoded','sentiment_label']]\n",
        "#so far I'm still need the limmatized review to do preprocessing, I wanna do some similarity thing"
      ],
      "metadata": {
        "id": "K9Q_dkaHsgYq"
      },
      "execution_count": null,
      "outputs": []
    },
    {
      "cell_type": "code",
      "source": [
        "#df2.to_csv('process2.csv')"
      ],
      "metadata": {
        "id": "vopmamHIxP4j"
      },
      "execution_count": null,
      "outputs": []
    },
    {
      "cell_type": "markdown",
      "source": [
        "# End of Encoding, Madhu Cleaning\n"
      ],
      "metadata": {
        "id": "PW3hif-dy3ZX"
      }
    },
    {
      "cell_type": "code",
      "source": [
        "df2.drop(columns=['review','clean_review','rating',])\n",
        "# I remembered that we might need the ID Columns in order to merge the datasets (mine and the one madhu preprocessed)\n",
        "#remember this is optional we can apply madhu changes to this"
      ],
      "metadata": {
        "id": "Tnz3rMesTNlE"
      },
      "execution_count": null,
      "outputs": []
    },
    {
      "cell_type": "code",
      "source": [
        "pd.set_option('display.max_rows', None)\n",
        "pd.set_option('display.max_colwidth', None)"
      ],
      "metadata": {
        "id": "ejGkvhX06yRQ"
      },
      "execution_count": null,
      "outputs": []
    },
    {
      "cell_type": "code",
      "source": [
        "test_link = 'https://drive.google.com/uc?id=1J5W75zPGVnf40quZKiZ7d5G8TlKGY88n'\n",
        "train_link = 'https://drive.google.com/uc?id=1DgVBjs09tUEtLKdrpL24amz4XcqAysvp'\n",
        "\n",
        "train_df = pd.read_csv(train_link,delimiter='\\t')\n",
        "test_df = pd.read_csv(test_link, delimiter='\\t')\n",
        "df = pd.concat([train_df,test_df])\n",
        "df.head()"
      ],
      "metadata": {
        "id": "VMffoiVh69P7"
      },
      "execution_count": null,
      "outputs": []
    },
    {
      "cell_type": "code",
      "source": [
        "url = \"https://drive.google.com/uc?id=1IHQiNrgzT7MNT0TUvfuOOzbDhGppMq1d\"\n",
        "df = pd.read_csv(url)\n",
        "\n",
        "df.head(5)"
      ],
      "metadata": {
        "colab": {
          "base_uri": "https://localhost:8080/",
          "height": 310
        },
        "id": "Z1wLfXbgG6Gx",
        "outputId": "786d0440-ffc0-4f63-cae3-c34e8819c24c"
      },
      "execution_count": null,
      "outputs": [
        {
          "output_type": "execute_result",
          "data": {
            "text/plain": [
              "   Unnamed: 0                 drug_name                     condition  \\\n",
              "0           0                 Valsartan  Left Ventricular Dysfunction   \n",
              "1           1                Guanfacine                          ADHD   \n",
              "2           2                    Lybrel                 Birth Control   \n",
              "3           3                Ortho Evra                 Birth Control   \n",
              "4           4  Buprenorphine / naloxone             Opiate Dependence   \n",
              "\n",
              "   useful_count_encoded  ratingSentiment  Year  nltkScore  \\\n",
              "0                     1                2  2012          0   \n",
              "1                     1                2  2010          2   \n",
              "2                     0                0  2009          2   \n",
              "3                     0                2  2015          2   \n",
              "4                     1                2  2016          2   \n",
              "\n",
              "                                TF-IDF  \n",
              "0  [0.0, 0.0, 0.0, 0.0, 0.0, 0.0, 0.0]  \n",
              "1  [0.0, 0.0, 0.0, 0.0, 0.0, 0.0, 0.0]  \n",
              "2  [0.0, 0.0, 0.0, 0.0, 0.0, 0.0, 0.0]  \n",
              "3  [0.0, 0.0, 0.0, 0.0, 0.0, 0.0, 0.0]  \n",
              "4  [0.0, 0.0, 0.0, 0.0, 0.0, 0.0, 0.0]  "
            ],
            "text/html": [
              "\n",
              "  <div id=\"df-04b8e63e-361a-42d2-a7e3-10fef223ed29\" class=\"colab-df-container\">\n",
              "    <div>\n",
              "<style scoped>\n",
              "    .dataframe tbody tr th:only-of-type {\n",
              "        vertical-align: middle;\n",
              "    }\n",
              "\n",
              "    .dataframe tbody tr th {\n",
              "        vertical-align: top;\n",
              "    }\n",
              "\n",
              "    .dataframe thead th {\n",
              "        text-align: right;\n",
              "    }\n",
              "</style>\n",
              "<table border=\"1\" class=\"dataframe\">\n",
              "  <thead>\n",
              "    <tr style=\"text-align: right;\">\n",
              "      <th></th>\n",
              "      <th>Unnamed: 0</th>\n",
              "      <th>drug_name</th>\n",
              "      <th>condition</th>\n",
              "      <th>useful_count_encoded</th>\n",
              "      <th>ratingSentiment</th>\n",
              "      <th>Year</th>\n",
              "      <th>nltkScore</th>\n",
              "      <th>TF-IDF</th>\n",
              "    </tr>\n",
              "  </thead>\n",
              "  <tbody>\n",
              "    <tr>\n",
              "      <th>0</th>\n",
              "      <td>0</td>\n",
              "      <td>Valsartan</td>\n",
              "      <td>Left Ventricular Dysfunction</td>\n",
              "      <td>1</td>\n",
              "      <td>2</td>\n",
              "      <td>2012</td>\n",
              "      <td>0</td>\n",
              "      <td>[0.0, 0.0, 0.0, 0.0, 0.0, 0.0, 0.0]</td>\n",
              "    </tr>\n",
              "    <tr>\n",
              "      <th>1</th>\n",
              "      <td>1</td>\n",
              "      <td>Guanfacine</td>\n",
              "      <td>ADHD</td>\n",
              "      <td>1</td>\n",
              "      <td>2</td>\n",
              "      <td>2010</td>\n",
              "      <td>2</td>\n",
              "      <td>[0.0, 0.0, 0.0, 0.0, 0.0, 0.0, 0.0]</td>\n",
              "    </tr>\n",
              "    <tr>\n",
              "      <th>2</th>\n",
              "      <td>2</td>\n",
              "      <td>Lybrel</td>\n",
              "      <td>Birth Control</td>\n",
              "      <td>0</td>\n",
              "      <td>0</td>\n",
              "      <td>2009</td>\n",
              "      <td>2</td>\n",
              "      <td>[0.0, 0.0, 0.0, 0.0, 0.0, 0.0, 0.0]</td>\n",
              "    </tr>\n",
              "    <tr>\n",
              "      <th>3</th>\n",
              "      <td>3</td>\n",
              "      <td>Ortho Evra</td>\n",
              "      <td>Birth Control</td>\n",
              "      <td>0</td>\n",
              "      <td>2</td>\n",
              "      <td>2015</td>\n",
              "      <td>2</td>\n",
              "      <td>[0.0, 0.0, 0.0, 0.0, 0.0, 0.0, 0.0]</td>\n",
              "    </tr>\n",
              "    <tr>\n",
              "      <th>4</th>\n",
              "      <td>4</td>\n",
              "      <td>Buprenorphine / naloxone</td>\n",
              "      <td>Opiate Dependence</td>\n",
              "      <td>1</td>\n",
              "      <td>2</td>\n",
              "      <td>2016</td>\n",
              "      <td>2</td>\n",
              "      <td>[0.0, 0.0, 0.0, 0.0, 0.0, 0.0, 0.0]</td>\n",
              "    </tr>\n",
              "  </tbody>\n",
              "</table>\n",
              "</div>\n",
              "    <div class=\"colab-df-buttons\">\n",
              "\n",
              "  <div class=\"colab-df-container\">\n",
              "    <button class=\"colab-df-convert\" onclick=\"convertToInteractive('df-04b8e63e-361a-42d2-a7e3-10fef223ed29')\"\n",
              "            title=\"Convert this dataframe to an interactive table.\"\n",
              "            style=\"display:none;\">\n",
              "\n",
              "  <svg xmlns=\"http://www.w3.org/2000/svg\" height=\"24px\" viewBox=\"0 -960 960 960\">\n",
              "    <path d=\"M120-120v-720h720v720H120Zm60-500h600v-160H180v160Zm220 220h160v-160H400v160Zm0 220h160v-160H400v160ZM180-400h160v-160H180v160Zm440 0h160v-160H620v160ZM180-180h160v-160H180v160Zm440 0h160v-160H620v160Z\"/>\n",
              "  </svg>\n",
              "    </button>\n",
              "\n",
              "  <style>\n",
              "    .colab-df-container {\n",
              "      display:flex;\n",
              "      gap: 12px;\n",
              "    }\n",
              "\n",
              "    .colab-df-convert {\n",
              "      background-color: #E8F0FE;\n",
              "      border: none;\n",
              "      border-radius: 50%;\n",
              "      cursor: pointer;\n",
              "      display: none;\n",
              "      fill: #1967D2;\n",
              "      height: 32px;\n",
              "      padding: 0 0 0 0;\n",
              "      width: 32px;\n",
              "    }\n",
              "\n",
              "    .colab-df-convert:hover {\n",
              "      background-color: #E2EBFA;\n",
              "      box-shadow: 0px 1px 2px rgba(60, 64, 67, 0.3), 0px 1px 3px 1px rgba(60, 64, 67, 0.15);\n",
              "      fill: #174EA6;\n",
              "    }\n",
              "\n",
              "    .colab-df-buttons div {\n",
              "      margin-bottom: 4px;\n",
              "    }\n",
              "\n",
              "    [theme=dark] .colab-df-convert {\n",
              "      background-color: #3B4455;\n",
              "      fill: #D2E3FC;\n",
              "    }\n",
              "\n",
              "    [theme=dark] .colab-df-convert:hover {\n",
              "      background-color: #434B5C;\n",
              "      box-shadow: 0px 1px 3px 1px rgba(0, 0, 0, 0.15);\n",
              "      filter: drop-shadow(0px 1px 2px rgba(0, 0, 0, 0.3));\n",
              "      fill: #FFFFFF;\n",
              "    }\n",
              "  </style>\n",
              "\n",
              "    <script>\n",
              "      const buttonEl =\n",
              "        document.querySelector('#df-04b8e63e-361a-42d2-a7e3-10fef223ed29 button.colab-df-convert');\n",
              "      buttonEl.style.display =\n",
              "        google.colab.kernel.accessAllowed ? 'block' : 'none';\n",
              "\n",
              "      async function convertToInteractive(key) {\n",
              "        const element = document.querySelector('#df-04b8e63e-361a-42d2-a7e3-10fef223ed29');\n",
              "        const dataTable =\n",
              "          await google.colab.kernel.invokeFunction('convertToInteractive',\n",
              "                                                    [key], {});\n",
              "        if (!dataTable) return;\n",
              "\n",
              "        const docLinkHtml = 'Like what you see? Visit the ' +\n",
              "          '<a target=\"_blank\" href=https://colab.research.google.com/notebooks/data_table.ipynb>data table notebook</a>'\n",
              "          + ' to learn more about interactive tables.';\n",
              "        element.innerHTML = '';\n",
              "        dataTable['output_type'] = 'display_data';\n",
              "        await google.colab.output.renderOutput(dataTable, element);\n",
              "        const docLink = document.createElement('div');\n",
              "        docLink.innerHTML = docLinkHtml;\n",
              "        element.appendChild(docLink);\n",
              "      }\n",
              "    </script>\n",
              "  </div>\n",
              "\n",
              "\n",
              "<div id=\"df-e74c383f-5080-4819-b559-53af14caa3ca\">\n",
              "  <button class=\"colab-df-quickchart\" onclick=\"quickchart('df-e74c383f-5080-4819-b559-53af14caa3ca')\"\n",
              "            title=\"Suggest charts\"\n",
              "            style=\"display:none;\">\n",
              "\n",
              "<svg xmlns=\"http://www.w3.org/2000/svg\" height=\"24px\"viewBox=\"0 0 24 24\"\n",
              "     width=\"24px\">\n",
              "    <g>\n",
              "        <path d=\"M19 3H5c-1.1 0-2 .9-2 2v14c0 1.1.9 2 2 2h14c1.1 0 2-.9 2-2V5c0-1.1-.9-2-2-2zM9 17H7v-7h2v7zm4 0h-2V7h2v10zm4 0h-2v-4h2v4z\"/>\n",
              "    </g>\n",
              "</svg>\n",
              "  </button>\n",
              "\n",
              "<style>\n",
              "  .colab-df-quickchart {\n",
              "      --bg-color: #E8F0FE;\n",
              "      --fill-color: #1967D2;\n",
              "      --hover-bg-color: #E2EBFA;\n",
              "      --hover-fill-color: #174EA6;\n",
              "      --disabled-fill-color: #AAA;\n",
              "      --disabled-bg-color: #DDD;\n",
              "  }\n",
              "\n",
              "  [theme=dark] .colab-df-quickchart {\n",
              "      --bg-color: #3B4455;\n",
              "      --fill-color: #D2E3FC;\n",
              "      --hover-bg-color: #434B5C;\n",
              "      --hover-fill-color: #FFFFFF;\n",
              "      --disabled-bg-color: #3B4455;\n",
              "      --disabled-fill-color: #666;\n",
              "  }\n",
              "\n",
              "  .colab-df-quickchart {\n",
              "    background-color: var(--bg-color);\n",
              "    border: none;\n",
              "    border-radius: 50%;\n",
              "    cursor: pointer;\n",
              "    display: none;\n",
              "    fill: var(--fill-color);\n",
              "    height: 32px;\n",
              "    padding: 0;\n",
              "    width: 32px;\n",
              "  }\n",
              "\n",
              "  .colab-df-quickchart:hover {\n",
              "    background-color: var(--hover-bg-color);\n",
              "    box-shadow: 0 1px 2px rgba(60, 64, 67, 0.3), 0 1px 3px 1px rgba(60, 64, 67, 0.15);\n",
              "    fill: var(--button-hover-fill-color);\n",
              "  }\n",
              "\n",
              "  .colab-df-quickchart-complete:disabled,\n",
              "  .colab-df-quickchart-complete:disabled:hover {\n",
              "    background-color: var(--disabled-bg-color);\n",
              "    fill: var(--disabled-fill-color);\n",
              "    box-shadow: none;\n",
              "  }\n",
              "\n",
              "  .colab-df-spinner {\n",
              "    border: 2px solid var(--fill-color);\n",
              "    border-color: transparent;\n",
              "    border-bottom-color: var(--fill-color);\n",
              "    animation:\n",
              "      spin 1s steps(1) infinite;\n",
              "  }\n",
              "\n",
              "  @keyframes spin {\n",
              "    0% {\n",
              "      border-color: transparent;\n",
              "      border-bottom-color: var(--fill-color);\n",
              "      border-left-color: var(--fill-color);\n",
              "    }\n",
              "    20% {\n",
              "      border-color: transparent;\n",
              "      border-left-color: var(--fill-color);\n",
              "      border-top-color: var(--fill-color);\n",
              "    }\n",
              "    30% {\n",
              "      border-color: transparent;\n",
              "      border-left-color: var(--fill-color);\n",
              "      border-top-color: var(--fill-color);\n",
              "      border-right-color: var(--fill-color);\n",
              "    }\n",
              "    40% {\n",
              "      border-color: transparent;\n",
              "      border-right-color: var(--fill-color);\n",
              "      border-top-color: var(--fill-color);\n",
              "    }\n",
              "    60% {\n",
              "      border-color: transparent;\n",
              "      border-right-color: var(--fill-color);\n",
              "    }\n",
              "    80% {\n",
              "      border-color: transparent;\n",
              "      border-right-color: var(--fill-color);\n",
              "      border-bottom-color: var(--fill-color);\n",
              "    }\n",
              "    90% {\n",
              "      border-color: transparent;\n",
              "      border-bottom-color: var(--fill-color);\n",
              "    }\n",
              "  }\n",
              "</style>\n",
              "\n",
              "  <script>\n",
              "    async function quickchart(key) {\n",
              "      const quickchartButtonEl =\n",
              "        document.querySelector('#' + key + ' button');\n",
              "      quickchartButtonEl.disabled = true;  // To prevent multiple clicks.\n",
              "      quickchartButtonEl.classList.add('colab-df-spinner');\n",
              "      try {\n",
              "        const charts = await google.colab.kernel.invokeFunction(\n",
              "            'suggestCharts', [key], {});\n",
              "      } catch (error) {\n",
              "        console.error('Error during call to suggestCharts:', error);\n",
              "      }\n",
              "      quickchartButtonEl.classList.remove('colab-df-spinner');\n",
              "      quickchartButtonEl.classList.add('colab-df-quickchart-complete');\n",
              "    }\n",
              "    (() => {\n",
              "      let quickchartButtonEl =\n",
              "        document.querySelector('#df-e74c383f-5080-4819-b559-53af14caa3ca button');\n",
              "      quickchartButtonEl.style.display =\n",
              "        google.colab.kernel.accessAllowed ? 'block' : 'none';\n",
              "    })();\n",
              "  </script>\n",
              "</div>\n",
              "\n",
              "    </div>\n",
              "  </div>\n"
            ]
          },
          "metadata": {},
          "execution_count": 27
        }
      ]
    },
    {
      "cell_type": "code",
      "source": [
        "#exploring condition column\n",
        "df.condition.unique()"
      ],
      "metadata": {
        "id": "3sglCTL27C2q"
      },
      "execution_count": null,
      "outputs": []
    },
    {
      "cell_type": "code",
      "source": [
        "#checking the number of unique values in the condition column\n",
        "len(df.condition.unique())\n",
        "#but we see that there are a few conditions with the </span> tag and of course there are null value"
      ],
      "metadata": {
        "colab": {
          "base_uri": "https://localhost:8080/"
        },
        "id": "E5IzdgUn9wUt",
        "outputId": "cd7b3ac4-3980-4bff-a1f4-51281a06e9d5"
      },
      "execution_count": null,
      "outputs": [
        {
          "output_type": "execute_result",
          "data": {
            "text/plain": [
              "917"
            ]
          },
          "metadata": {},
          "execution_count": 5
        }
      ]
    },
    {
      "cell_type": "code",
      "source": [
        "#we are replacing the</span> tag with 'Not Listed/Othe' and filling null values with 'Not Listed/Othe'\n",
        "df['condition'] = df['condition'].str.replace(r'\\d+</span> users found this comment helpful.$', 'Not Listed/Othe', regex=True)\n",
        "df['condition'] = df['condition'].fillna('Not Listed/Othe')"
      ],
      "metadata": {
        "id": "fFespIr09zzI"
      },
      "execution_count": null,
      "outputs": []
    },
    {
      "cell_type": "code",
      "source": [
        "len(df.condition.unique())"
      ],
      "metadata": {
        "colab": {
          "base_uri": "https://localhost:8080/"
        },
        "id": "0_--F-Tm92VO",
        "outputId": "b0da67b4-5cb0-4b2e-aa8f-8b2e5123ac84"
      },
      "execution_count": null,
      "outputs": [
        {
          "output_type": "execute_result",
          "data": {
            "text/plain": [
              "837"
            ]
          },
          "metadata": {},
          "execution_count": 7
        }
      ]
    },
    {
      "cell_type": "code",
      "source": [
        "#correcting the 'Not Listed/Othe' value\n",
        "df['condition'] = df['condition'].str.replace('Not Listed/Othe', 'Not Listed/Other', regex=True)"
      ],
      "metadata": {
        "id": "0AhsFrV195C9"
      },
      "execution_count": null,
      "outputs": []
    },
    {
      "cell_type": "code",
      "source": [
        "len(df.condition.unique())\n",
        "#yay"
      ],
      "metadata": {
        "colab": {
          "base_uri": "https://localhost:8080/"
        },
        "id": "JYwolrzY98Ve",
        "outputId": "3c207699-558c-4ecb-e92d-4b8b893fedf1"
      },
      "execution_count": null,
      "outputs": [
        {
          "output_type": "execute_result",
          "data": {
            "text/plain": [
              "837"
            ]
          },
          "metadata": {},
          "execution_count": 9
        }
      ]
    },
    {
      "cell_type": "code",
      "source": [
        "#now for the review column\n",
        "#first defining a function to clean the html entities and a function to remove escape characters\n",
        "def clean_html_entities(text):\n",
        "    return html.unescape(text)\n",
        "\n",
        "def no_escape(text):\n",
        "    return text.replace('\\r\\n', ' ')\n",
        "\n",
        "def no_escape2(text):\n",
        "    return text.replace('\\r', ' ')"
      ],
      "metadata": {
        "id": "FXOM5L2T9_B8"
      },
      "execution_count": null,
      "outputs": []
    },
    {
      "cell_type": "code",
      "source": [
        "#removing the html entities and escape characters\n",
        "df['clean_review'] = df['review'].apply(clean_html_entities)\n",
        "df['clean_review'] = df['clean_review'].apply(no_escape)\n",
        "df['clean_review'] = df['clean_review'].apply(no_escape2)\n",
        "\n",
        "df.head()"
      ],
      "metadata": {
        "id": "M5IqU_RG-HVr"
      },
      "execution_count": null,
      "outputs": []
    },
    {
      "cell_type": "code",
      "source": [
        "sorted(df['condition'].unique())"
      ],
      "metadata": {
        "id": "zaxo1NKF-X9M"
      },
      "execution_count": null,
      "outputs": []
    },
    {
      "cell_type": "code",
      "source": [
        "df['condition'] = df['condition'].replace('ibromyalgia', 'Fibromyalgia')\n",
        "df['condition'] = df['condition'].replace('Binge Eating Disorde', 'Binge Eating Disorder')\n",
        "#Benign Essential Trem\n",
        "df['condition'] = df['condition'].replace('Benign Essential Trem', 'Benign Essential Tremor')\n",
        "#'Bipolar Disorde'\n",
        "df['condition'] = df['condition'].replace('Bipolar Disorde', 'Bipolar Disorder')\n",
        "#Bleeding Disorde\n",
        "df['condition'] = df['condition'].replace('Bleeding Disorde', 'Bleeding Disorder')\n",
        "#'Body Dysmorphic Disorde'\n",
        "df['condition'] = df['condition'].replace('Body Dysmorphic Disorde', 'Body Dysmorphic Disorder')\n",
        "#'Borderline Personality Disorde'\n",
        "df['condition'] = df['condition'].replace('Borderline Personality Disorde', 'Borderline Personality Disorder')\n",
        "#'Brain Tum'\n",
        "df['condition'] = df['condition'].replace('Brain Tum', 'Brain Tumor')"
      ],
      "metadata": {
        "id": "gfC9Jta9-dvT"
      },
      "execution_count": null,
      "outputs": []
    },
    {
      "cell_type": "code",
      "source": [
        "#Breast Cance\n",
        "df['condition'] = df['condition'].replace('Breast Cance', 'Breast Cancer')\n",
        "#Cance\n",
        "df['condition'] = df['condition'].replace('Cance', 'Cancer')\n",
        "#'Colorectal Cance'\n",
        "df['condition'] = df['condition'].replace('Colorectal Cance', 'Colorectal Cancer')\n",
        "#Corneal Ulce\n",
        "df['condition'] = df['condition'].replace('Corneal Ulce', 'Corneal Ulcer')\n",
        "#Dermatitis Herpeti\n",
        "df['condition'] = df['condition'].replace('Dermatitis Herpeti', 'Dermatitis Herpetiformis')\n",
        "#'Dissociative Identity Disorde'\n",
        "df['condition'] = df['condition'].replace('Dissociative Identity Disorde', 'Dissociative Identity Disorder')\n",
        "#'Duodenal Ulce'\n",
        "df['condition'] = df['condition'].replace('Duodenal Ulce', 'Duodenal Ulcer')\n",
        "#'Endometrial Cance'\n",
        "df['condition'] = df['condition'].replace('Endometrial Cance', 'Endometrial Cancer')\n",
        "#'Gastric Cance'\n",
        "df['condition'] = df['condition'].replace('Gastric Cance', 'Gastric Cancer')"
      ],
      "metadata": {
        "id": "SPn9zTfH-x-c"
      },
      "execution_count": null,
      "outputs": []
    },
    {
      "cell_type": "code",
      "source": [
        "#'Gastrointestinal Stromal Tum'\n",
        "df['condition'] = df['condition'].replace('Gastrointestinal Stromal Tum', 'Gastrointestinal Stromal Tumor')\n",
        "#'Generalized Anxiety Disorde'\n",
        "df['condition'] = df['condition'].replace('Generalized Anxiety Disorde', 'Generalized Anxiety Disorder')\n",
        "#'Head and Neck Cance'\n",
        "df['condition'] = df['condition'].replace('Head and Neck Cance', 'Head and Neck Cancer')\n",
        "#'Hepatic Tum'\n",
        "df['condition'] = df['condition'].replace('Hepatic Tum', 'Hepatic Tumor')\n",
        "#'Herpes Zoste'\n",
        "df['condition'] = df['condition'].replace('Herpes Zoste', 'Herpes Zoster')\n",
        "#'Hypoactive Sexual Desire Disorde'\n",
        "df['condition'] = df['condition'].replace('Hypoactive Sexual Desire Disorde', 'Hypoactive Sexual Desire Disorder')"
      ],
      "metadata": {
        "id": "FvayGV2r_DNP"
      },
      "execution_count": null,
      "outputs": []
    },
    {
      "cell_type": "code",
      "source": [
        "#Impetig\n",
        "df['condition'] = df['condition'].replace('Impetig', 'Impetigo')\n",
        "#'Major Depressive Disorde'\n",
        "df['condition'] = df['condition'].replace('Major Depressive Disorde', 'Major Depressive Disorder')\n",
        "#'Not Listed / Othe'\n",
        "df['condition'] = df['condition'].replace('Not Listed / Othe', 'Not Listed/Other')\n",
        "#'Obsessive Compulsive Disorde'\n",
        "df['condition'] = df['condition'].replace('Obsessive Compulsive Disorde', 'Obsessive Compulsive Disorder')\n",
        "#'Oppositional Defiant Disorde'\n",
        "df['condition'] = df['condition'].replace('Oppositional Defiant Disorde', 'Oppositional Defiant Disorder')"
      ],
      "metadata": {
        "id": "cGK-zDd__Rci"
      },
      "execution_count": null,
      "outputs": []
    },
    {
      "cell_type": "code",
      "source": [
        "#'Ovarian Cance'\n",
        "df['condition'] = df['condition'].replace('Ovarian Cance', 'Ovarian Cancer')\n",
        "#Overactive Bladde\n",
        "df['condition'] = df['condition'].replace('Overactive Bladde', 'Overactive Bladder')\n",
        "#'Pain/Feve'\n",
        "df['condition'] = df['condition'].replace('Pain/Feve', 'Pain/Fever')\n",
        "#Pancreatic Cance\n",
        "df['condition'] = df['condition'].replace('Pancreatic Cance', 'Pancreatic Cancer')\n",
        "#Panic Disorde\n",
        "df['condition'] = df['condition'].replace('Panic Disorde', 'Panic Disorder')\n",
        "#Paranoid Disorde\n",
        "df['condition'] = df['condition'].replace('Paranoid Disorde', 'Paranoid Disorder')"
      ],
      "metadata": {
        "id": "beUB55it_b2z"
      },
      "execution_count": null,
      "outputs": []
    },
    {
      "cell_type": "code",
      "source": [
        "#Parkinsonian Trem\n",
        "df['condition'] = df['condition'].replace('Parkinsonian Trem', 'Parkinsonian Tremor')\n",
        "#Peptic Ulce\n",
        "df['condition'] = df['condition'].replace('Peptic Ulce', 'Peptic Ulcer')\n",
        "#Periodic Limb Movement Disorde\n",
        "df['condition'] = df['condition'].replace('Periodic Limb Movement Disorde', 'Periodic Limb Movement Disorder')\n",
        "#Post Traumatic Stress Disorde\n",
        "df['condition'] = df['condition'].replace('Post Traumatic Stress Disorde', 'Post Traumatic Stress Disorder')\n",
        "#Premenstrual Dysphoric Disorde\n",
        "df['condition'] = df['condition'].replace('Premenstrual Dysphoric Disorde', 'Premenstrual Dysphoric Disorder')\n",
        "#Prostate Cance\n",
        "df['condition'] = df['condition'].replace('Prostate Cance', 'Prostate Cancer')"
      ],
      "metadata": {
        "id": "ho-BV2kl_jeG"
      },
      "execution_count": null,
      "outputs": []
    },
    {
      "cell_type": "code",
      "source": [
        "#Q Feve\n",
        "df['condition'] = df['condition'].replace('Q Feve', 'Q Fever')\n",
        "#Rat-bite Feve\n",
        "df['condition'] = df['condition'].replace('Rat-bite Feve', 'Rat-bite Fever')\n",
        "#Schizoaffective Disorde\n",
        "df['condition'] = df['condition'].replace('Schizoaffective Disorde', 'Schizoaffective Disorder')\n",
        "#Seasonal Affective Disorde\n",
        "df['condition'] = df['condition'].replace('Seasonal Affective Disorde', 'Seasonal Affective Disorder')\n",
        "#Shift Work Sleep Disorde\n",
        "df['condition'] = df['condition'].replace('Shift Work Sleep Disorde', 'Shift Work Sleep Disorder')\n",
        "#Skin Cance\n",
        "df['condition'] = df['condition'].replace('Skin Cance', 'Skin Cancer')\n",
        "#Social Anxiety Disorde\n",
        "df['condition'] = df['condition'].replace('Social Anxiety Disorde', 'Social Anxiety Disorder')\n",
        "#Somat\n",
        "df['condition'] = df['condition'].replace('Somat', 'Somatoform Pain Disorder')"
      ],
      "metadata": {
        "id": "E-Ed6EgJ_tvH"
      },
      "execution_count": null,
      "outputs": []
    },
    {
      "cell_type": "code",
      "source": [
        "#'Somatoform Pain Disorde'\n",
        "df['condition'] = df['condition'].replace('Somatoform Pain Disorde', 'Somatoform Pain Disorder')\n",
        "#Stomach Cance\n",
        "df['condition'] = df['condition'].replace('Stomach Cance', 'Stomach Cancer')\n",
        "#Stomach Ulce\n",
        "df['condition'] = df['condition'].replace('Stomach Ulce', 'Stomach Ulcer')\n",
        "#Temporomandibular Joint Disorde\n",
        "df['condition'] = df['condition'].replace('Temporomandibular Joint Disorde', 'Temporomandibular Joint Disorder')\n",
        "#Testicular Cance\n",
        "df['condition'] = df['condition'].replace('Testicular Cance', 'Testicular Cancer')\n",
        "#Thyroid Cance\n",
        "df['condition'] = df['condition'].replace('Thyroid Cance', 'Thyroid Cancer')"
      ],
      "metadata": {
        "id": "IGfMCej2_0iX"
      },
      "execution_count": null,
      "outputs": []
    },
    {
      "cell_type": "code",
      "source": [
        "#Tic Disorde\n",
        "df['condition'] = df['condition'].replace('Tic Disorde', 'Tic Disorder')\n",
        "#Tinea Versicol\n",
        "df['condition'] = df['condition'].replace('Tinea Versicol', 'Tinea Versicolor')\n",
        "#Varicella-Zoste\n",
        "df['condition'] = df['condition'].replace('Varicella-Zoste', 'Varicella-Zoster')\n",
        "#Vertig\n",
        "df['condition'] = df['condition'].replace('Vertig', 'Vertigo')"
      ],
      "metadata": {
        "id": "CypwXNgX_59I"
      },
      "execution_count": null,
      "outputs": []
    },
    {
      "cell_type": "code",
      "source": [
        "#acial Lipoatrophy\n",
        "df['condition'] = df['condition'].replace('acial Lipoatrophy', 'Facial Lipoatrophy')\n",
        "#acial Wrinkles\n",
        "df['condition'] = df['condition'].replace('acial Wrinkles', 'Facial Wrinkles')\n",
        "#actor IX Deficiency\n",
        "df['condition'] = df['condition'].replace('actor IX Deficiency', 'Factor IX Deficiency')\n",
        "#ailure to Thrive\n",
        "df['condition'] = df['condition'].replace('ailure to Thrive', 'Failure to Thrive')\n",
        "#amilial Cold Autoinflammatory Syndrome\n",
        "df['condition'] = df['condition'].replace('amilial Cold Autoinflammatory Syndrome', 'Familial Cold Autoinflammatory Syndrome')\n",
        "#amilial Mediterranean Feve\n",
        "df['condition'] = df['condition'].replace('amilial Mediterranean Feve', 'Familial Mediterranean Fever')\n",
        "#atigue\n",
        "df['condition'] = df['condition'].replace('atigue', 'Fatigue')\n",
        "#cal Segmental Glomerulosclerosis\n",
        "df['condition'] = df['condition'].replace('cal Segmental Glomerulosclerosis', 'Focal Segmental Glomerulosclerosis')"
      ],
      "metadata": {
        "id": "s7-fwxZuABJ9"
      },
      "execution_count": null,
      "outputs": []
    },
    {
      "cell_type": "code",
      "source": [
        "#emale Infertility\n",
        "df['condition'] = df['condition'].replace('emale Infertility', 'Female Infertility')\n",
        "#eve\n",
        "df['condition'] = df['condition'].replace('eve', 'Fever')\n",
        "#ge (amlodipine / valsartan\n",
        "df['condition'] = df['condition'].replace('ge (amlodipine / valsartan', 'High Blood Pressure')\n",
        "#ge HCT (amlodipine / hydrochlorothiazide / valsartan)\n",
        "df['condition'] = df['condition'].replace('ge HCT (amlodipine / hydrochlorothiazide / valsartan)', 'High Blood Pressure')\n",
        "#ibrocystic Breast Disease\n",
        "df['condition'] = df['condition'].replace('ibrocystic Breast Disease', 'Fibrocystic Breast Disease')\n",
        "#lic Acid Deficiency\n",
        "df['condition'] = df['condition'].replace('lic Acid Deficiency', 'Folic Acid Deficiency')\n",
        "#llicle Stimulation\n",
        "df['condition'] = df['condition'].replace('llicle Stimulation', 'Follicle Stimulation')\n",
        "#llicular Lymphoma\n",
        "df['condition'] = df['condition'].replace('llicular Lymphoma', 'Follicular Lymphoma')\n",
        "#m Pain Disorde\n",
        "df['condition'] = df['condition'].replace('m Pain Disorde', 'Somatoform Pain Disorder')\n",
        "#mance Anxiety\n",
        "df['condition'] = df['condition'].replace('mance Anxiety', 'Performance Anxiety')"
      ],
      "metadata": {
        "id": "QVZA82LfAPEo"
      },
      "execution_count": null,
      "outputs": []
    },
    {
      "cell_type": "code",
      "source": [
        "#me\n",
        "df['condition'] = df['condition'].replace('me', 'Glioblastoma Multiforme')\n",
        "#min / pioglitazone)\n",
        "df['condition'] = df['condition'].replace('min / pioglitazone)', 'Diabetes, Type 2')"
      ],
      "metadata": {
        "id": "KzCU7SaRAfqL"
      },
      "execution_count": null,
      "outputs": []
    },
    {
      "cell_type": "code",
      "source": [
        "#'min / saxagliptin)'\n",
        "df['condition'] = df['condition'].replace('min / saxagliptin)', 'Diabetes, Type 2 ')\n",
        "#'min / rosiglitazone)'\n",
        "df['condition'] = df['condition'].replace('min / rosiglitazone)', 'Diabetes, Type 2')\n",
        "#min / sitagliptin)\n",
        "df['condition'] = df['condition'].replace('min / sitagliptin)', 'Diabetes, Type 2')"
      ],
      "metadata": {
        "id": "0zSfsMaxAxLo"
      },
      "execution_count": null,
      "outputs": []
    },
    {
      "cell_type": "code",
      "source": [
        "#min)\n",
        "df['condition'] = df['condition'].replace('min)', 'Diabetes, Type 2')\n",
        "#mis\n",
        "df['condition'] = df['condition'].replace('mis', 'Dermatitis Herpetiformis')\n",
        "#mist (\n",
        "df['condition'] = df['condition'].replace('mist (', 'COPD')\n",
        "#moterol / mometasone)\n",
        "df['condition'] = df['condition'].replace('moterol / mometasone)', 'Asthma, Maintenance')"
      ],
      "metadata": {
        "id": "QQ3-anuqA4FT"
      },
      "execution_count": null,
      "outputs": []
    },
    {
      "cell_type": "code",
      "source": [
        "#moterol)\n",
        "df['condition'] = df['condition'].replace('moterol)', 'Asthma, Maintenance')\n",
        "#mulation) (phenylephrine\n",
        "df['condition'] = df['condition'].replace('mulation) (phenylephrine', 'Nasal Congestion')\n",
        "#t Care\n",
        "df['condition'] = df['condition'].replace('t Care', 'Foot Care')\n",
        "#t Pac with Cyclobenzaprine (cyclobenzaprine)\n",
        "df['condition'] = df['condition'].replace('t Pac with Cyclobenzaprine (cyclobenzaprine)', 'Muscle Spasm')\n",
        "#tic (mycophenolic acid)\n",
        "df['condition'] = df['condition'].replace('tic (mycophenolic acid)', 'Rejection Prophylaxis')"
      ],
      "metadata": {
        "id": "YFIytBWvBABs"
      },
      "execution_count": null,
      "outputs": []
    },
    {
      "cell_type": "code",
      "source": [
        "#unctional Gastric Disorde\n",
        "df['condition'] = df['condition'].replace('unctional Gastric Disorde', 'Functional Gastric Disorder')\n",
        "#ungal Infection Prophylaxis\n",
        "df['condition'] = df['condition'].replace('ungal Infection Prophylaxis', 'Fungal Infection Prophylaxis')\n",
        "#ungal Pneumonia\n",
        "df['condition'] = df['condition'].replace('ungal Pneumonia', 'Fungal Pneumonia')\n",
        "#zen Shoulde\n",
        "df['condition'] = df['condition'].replace('zen Shoulde', 'Frozen Shoulder')\n",
        "#Carcinoid Tum\n",
        "df['condition'] = df['condition'].replace('Carcinoid Tum', 'Carcinoid Tumor')\n",
        "#Aggressive Behavi\n",
        "df['condition'] = df['condition'].replace('Aggressive Behavi', 'Aggressive Behaviour')"
      ],
      "metadata": {
        "id": "p-ThXN8qBJLv"
      },
      "execution_count": null,
      "outputs": []
    },
    {
      "cell_type": "code",
      "source": [
        "df['condition'].value_counts().get('Not Listed/Other')"
      ],
      "metadata": {
        "colab": {
          "base_uri": "https://localhost:8080/"
        },
        "id": "pvqbyjtNBVNe",
        "outputId": "2743844d-00c4-4a32-aac1-b569d9bd98e8"
      },
      "execution_count": null,
      "outputs": [
        {
          "output_type": "execute_result",
          "data": {
            "text/plain": [
              "1763"
            ]
          },
          "metadata": {},
          "execution_count": 49
        }
      ]
    },
    {
      "cell_type": "code",
      "source": [
        "sorted(df.condition.unique())"
      ],
      "metadata": {
        "id": "piG6nc4wBZ9v"
      },
      "execution_count": null,
      "outputs": []
    },
    {
      "cell_type": "code",
      "source": [
        "len(sorted(df.condition.unique()))"
      ],
      "metadata": {
        "colab": {
          "base_uri": "https://localhost:8080/"
        },
        "id": "LzbJdij7Bchz",
        "outputId": "c2f1932b-e487-418e-cd5a-1d6f260482cd"
      },
      "execution_count": null,
      "outputs": [
        {
          "output_type": "execute_result",
          "data": {
            "text/plain": [
              "820"
            ]
          },
          "metadata": {},
          "execution_count": 51
        }
      ]
    },
    {
      "cell_type": "code",
      "source": [
        "df[df['condition'] == 'Women (minoxidil)']"
      ],
      "metadata": {
        "colab": {
          "base_uri": "https://localhost:8080/",
          "height": 115
        },
        "id": "MnTmR22zBeIc",
        "outputId": "3793209f-0f96-4409-feb6-168ecbc71ae5"
      },
      "execution_count": null,
      "outputs": [
        {
          "output_type": "execute_result",
          "data": {
            "text/plain": [
              "       Unnamed: 0  drug_name          condition  useful_count_encoded  \\\n",
              "39610       39854  Minoxidil  Women (minoxidil)                     0   \n",
              "\n",
              "       ratingSentiment  Year  nltkScore                               TF-IDF  \n",
              "39610                1  2016          2  [0.0, 0.0, 0.0, 0.0, 0.0, 0.0, 0.0]  "
            ],
            "text/html": [
              "\n",
              "  <div id=\"df-b5024944-3c3c-44ac-811e-186e08bca2fd\" class=\"colab-df-container\">\n",
              "    <div>\n",
              "<style scoped>\n",
              "    .dataframe tbody tr th:only-of-type {\n",
              "        vertical-align: middle;\n",
              "    }\n",
              "\n",
              "    .dataframe tbody tr th {\n",
              "        vertical-align: top;\n",
              "    }\n",
              "\n",
              "    .dataframe thead th {\n",
              "        text-align: right;\n",
              "    }\n",
              "</style>\n",
              "<table border=\"1\" class=\"dataframe\">\n",
              "  <thead>\n",
              "    <tr style=\"text-align: right;\">\n",
              "      <th></th>\n",
              "      <th>Unnamed: 0</th>\n",
              "      <th>drug_name</th>\n",
              "      <th>condition</th>\n",
              "      <th>useful_count_encoded</th>\n",
              "      <th>ratingSentiment</th>\n",
              "      <th>Year</th>\n",
              "      <th>nltkScore</th>\n",
              "      <th>TF-IDF</th>\n",
              "    </tr>\n",
              "  </thead>\n",
              "  <tbody>\n",
              "    <tr>\n",
              "      <th>39610</th>\n",
              "      <td>39854</td>\n",
              "      <td>Minoxidil</td>\n",
              "      <td>Women (minoxidil)</td>\n",
              "      <td>0</td>\n",
              "      <td>1</td>\n",
              "      <td>2016</td>\n",
              "      <td>2</td>\n",
              "      <td>[0.0, 0.0, 0.0, 0.0, 0.0, 0.0, 0.0]</td>\n",
              "    </tr>\n",
              "  </tbody>\n",
              "</table>\n",
              "</div>\n",
              "    <div class=\"colab-df-buttons\">\n",
              "\n",
              "  <div class=\"colab-df-container\">\n",
              "    <button class=\"colab-df-convert\" onclick=\"convertToInteractive('df-b5024944-3c3c-44ac-811e-186e08bca2fd')\"\n",
              "            title=\"Convert this dataframe to an interactive table.\"\n",
              "            style=\"display:none;\">\n",
              "\n",
              "  <svg xmlns=\"http://www.w3.org/2000/svg\" height=\"24px\" viewBox=\"0 -960 960 960\">\n",
              "    <path d=\"M120-120v-720h720v720H120Zm60-500h600v-160H180v160Zm220 220h160v-160H400v160Zm0 220h160v-160H400v160ZM180-400h160v-160H180v160Zm440 0h160v-160H620v160ZM180-180h160v-160H180v160Zm440 0h160v-160H620v160Z\"/>\n",
              "  </svg>\n",
              "    </button>\n",
              "\n",
              "  <style>\n",
              "    .colab-df-container {\n",
              "      display:flex;\n",
              "      gap: 12px;\n",
              "    }\n",
              "\n",
              "    .colab-df-convert {\n",
              "      background-color: #E8F0FE;\n",
              "      border: none;\n",
              "      border-radius: 50%;\n",
              "      cursor: pointer;\n",
              "      display: none;\n",
              "      fill: #1967D2;\n",
              "      height: 32px;\n",
              "      padding: 0 0 0 0;\n",
              "      width: 32px;\n",
              "    }\n",
              "\n",
              "    .colab-df-convert:hover {\n",
              "      background-color: #E2EBFA;\n",
              "      box-shadow: 0px 1px 2px rgba(60, 64, 67, 0.3), 0px 1px 3px 1px rgba(60, 64, 67, 0.15);\n",
              "      fill: #174EA6;\n",
              "    }\n",
              "\n",
              "    .colab-df-buttons div {\n",
              "      margin-bottom: 4px;\n",
              "    }\n",
              "\n",
              "    [theme=dark] .colab-df-convert {\n",
              "      background-color: #3B4455;\n",
              "      fill: #D2E3FC;\n",
              "    }\n",
              "\n",
              "    [theme=dark] .colab-df-convert:hover {\n",
              "      background-color: #434B5C;\n",
              "      box-shadow: 0px 1px 3px 1px rgba(0, 0, 0, 0.15);\n",
              "      filter: drop-shadow(0px 1px 2px rgba(0, 0, 0, 0.3));\n",
              "      fill: #FFFFFF;\n",
              "    }\n",
              "  </style>\n",
              "\n",
              "    <script>\n",
              "      const buttonEl =\n",
              "        document.querySelector('#df-b5024944-3c3c-44ac-811e-186e08bca2fd button.colab-df-convert');\n",
              "      buttonEl.style.display =\n",
              "        google.colab.kernel.accessAllowed ? 'block' : 'none';\n",
              "\n",
              "      async function convertToInteractive(key) {\n",
              "        const element = document.querySelector('#df-b5024944-3c3c-44ac-811e-186e08bca2fd');\n",
              "        const dataTable =\n",
              "          await google.colab.kernel.invokeFunction('convertToInteractive',\n",
              "                                                    [key], {});\n",
              "        if (!dataTable) return;\n",
              "\n",
              "        const docLinkHtml = 'Like what you see? Visit the ' +\n",
              "          '<a target=\"_blank\" href=https://colab.research.google.com/notebooks/data_table.ipynb>data table notebook</a>'\n",
              "          + ' to learn more about interactive tables.';\n",
              "        element.innerHTML = '';\n",
              "        dataTable['output_type'] = 'display_data';\n",
              "        await google.colab.output.renderOutput(dataTable, element);\n",
              "        const docLink = document.createElement('div');\n",
              "        docLink.innerHTML = docLinkHtml;\n",
              "        element.appendChild(docLink);\n",
              "      }\n",
              "    </script>\n",
              "  </div>\n",
              "\n",
              "\n",
              "    </div>\n",
              "  </div>\n"
            ]
          },
          "metadata": {},
          "execution_count": 52
        }
      ]
    },
    {
      "cell_type": "code",
      "source": [
        "df[df['condition'] == 'Women (oxybutynin)']"
      ],
      "metadata": {
        "id": "D6JN2gLVEnC4",
        "colab": {
          "base_uri": "https://localhost:8080/",
          "height": 359
        },
        "outputId": "bea889f5-2335-48d8-ebe6-b450ead0f725"
      },
      "execution_count": null,
      "outputs": [
        {
          "output_type": "execute_result",
          "data": {
            "text/plain": [
              "        Unnamed: 0   drug_name           condition  useful_count_encoded  \\\n",
              "2973          2988  Oxybutynin  Women (oxybutynin)                     0   \n",
              "108330      108953  Oxybutynin  Women (oxybutynin)                     0   \n",
              "137696      138483  Oxybutynin  Women (oxybutynin)                     0   \n",
              "176651       16338  Oxybutynin  Women (oxybutynin)                     0   \n",
              "202844       42676  Oxybutynin  Women (oxybutynin)                     0   \n",
              "206169       46023  Oxybutynin  Women (oxybutynin)                     0   \n",
              "\n",
              "        ratingSentiment  Year  nltkScore                               TF-IDF  \n",
              "2973                  1  2014          2  [0.0, 0.0, 0.0, 0.0, 0.0, 0.0, 0.0]  \n",
              "108330                2  2015          1  [0.0, 0.0, 0.0, 0.0, 0.0, 0.0, 0.0]  \n",
              "137696                2  2015          1  [0.0, 0.0, 0.0, 0.0, 0.0, 0.0, 0.0]  \n",
              "176651                2  2013          2  [0.0, 0.0, 0.0, 0.0, 0.0, 0.0, 0.0]  \n",
              "202844                2  2014          2  [0.0, 0.0, 0.0, 0.0, 0.0, 0.0, 0.0]  \n",
              "206169                2  2013          2  [0.0, 0.0, 0.0, 0.0, 0.0, 0.0, 0.0]  "
            ],
            "text/html": [
              "\n",
              "  <div id=\"df-571c3ae7-7e22-4fca-9317-6c9683851f71\" class=\"colab-df-container\">\n",
              "    <div>\n",
              "<style scoped>\n",
              "    .dataframe tbody tr th:only-of-type {\n",
              "        vertical-align: middle;\n",
              "    }\n",
              "\n",
              "    .dataframe tbody tr th {\n",
              "        vertical-align: top;\n",
              "    }\n",
              "\n",
              "    .dataframe thead th {\n",
              "        text-align: right;\n",
              "    }\n",
              "</style>\n",
              "<table border=\"1\" class=\"dataframe\">\n",
              "  <thead>\n",
              "    <tr style=\"text-align: right;\">\n",
              "      <th></th>\n",
              "      <th>Unnamed: 0</th>\n",
              "      <th>drug_name</th>\n",
              "      <th>condition</th>\n",
              "      <th>useful_count_encoded</th>\n",
              "      <th>ratingSentiment</th>\n",
              "      <th>Year</th>\n",
              "      <th>nltkScore</th>\n",
              "      <th>TF-IDF</th>\n",
              "    </tr>\n",
              "  </thead>\n",
              "  <tbody>\n",
              "    <tr>\n",
              "      <th>2973</th>\n",
              "      <td>2988</td>\n",
              "      <td>Oxybutynin</td>\n",
              "      <td>Women (oxybutynin)</td>\n",
              "      <td>0</td>\n",
              "      <td>1</td>\n",
              "      <td>2014</td>\n",
              "      <td>2</td>\n",
              "      <td>[0.0, 0.0, 0.0, 0.0, 0.0, 0.0, 0.0]</td>\n",
              "    </tr>\n",
              "    <tr>\n",
              "      <th>108330</th>\n",
              "      <td>108953</td>\n",
              "      <td>Oxybutynin</td>\n",
              "      <td>Women (oxybutynin)</td>\n",
              "      <td>0</td>\n",
              "      <td>2</td>\n",
              "      <td>2015</td>\n",
              "      <td>1</td>\n",
              "      <td>[0.0, 0.0, 0.0, 0.0, 0.0, 0.0, 0.0]</td>\n",
              "    </tr>\n",
              "    <tr>\n",
              "      <th>137696</th>\n",
              "      <td>138483</td>\n",
              "      <td>Oxybutynin</td>\n",
              "      <td>Women (oxybutynin)</td>\n",
              "      <td>0</td>\n",
              "      <td>2</td>\n",
              "      <td>2015</td>\n",
              "      <td>1</td>\n",
              "      <td>[0.0, 0.0, 0.0, 0.0, 0.0, 0.0, 0.0]</td>\n",
              "    </tr>\n",
              "    <tr>\n",
              "      <th>176651</th>\n",
              "      <td>16338</td>\n",
              "      <td>Oxybutynin</td>\n",
              "      <td>Women (oxybutynin)</td>\n",
              "      <td>0</td>\n",
              "      <td>2</td>\n",
              "      <td>2013</td>\n",
              "      <td>2</td>\n",
              "      <td>[0.0, 0.0, 0.0, 0.0, 0.0, 0.0, 0.0]</td>\n",
              "    </tr>\n",
              "    <tr>\n",
              "      <th>202844</th>\n",
              "      <td>42676</td>\n",
              "      <td>Oxybutynin</td>\n",
              "      <td>Women (oxybutynin)</td>\n",
              "      <td>0</td>\n",
              "      <td>2</td>\n",
              "      <td>2014</td>\n",
              "      <td>2</td>\n",
              "      <td>[0.0, 0.0, 0.0, 0.0, 0.0, 0.0, 0.0]</td>\n",
              "    </tr>\n",
              "    <tr>\n",
              "      <th>206169</th>\n",
              "      <td>46023</td>\n",
              "      <td>Oxybutynin</td>\n",
              "      <td>Women (oxybutynin)</td>\n",
              "      <td>0</td>\n",
              "      <td>2</td>\n",
              "      <td>2013</td>\n",
              "      <td>2</td>\n",
              "      <td>[0.0, 0.0, 0.0, 0.0, 0.0, 0.0, 0.0]</td>\n",
              "    </tr>\n",
              "  </tbody>\n",
              "</table>\n",
              "</div>\n",
              "    <div class=\"colab-df-buttons\">\n",
              "\n",
              "  <div class=\"colab-df-container\">\n",
              "    <button class=\"colab-df-convert\" onclick=\"convertToInteractive('df-571c3ae7-7e22-4fca-9317-6c9683851f71')\"\n",
              "            title=\"Convert this dataframe to an interactive table.\"\n",
              "            style=\"display:none;\">\n",
              "\n",
              "  <svg xmlns=\"http://www.w3.org/2000/svg\" height=\"24px\" viewBox=\"0 -960 960 960\">\n",
              "    <path d=\"M120-120v-720h720v720H120Zm60-500h600v-160H180v160Zm220 220h160v-160H400v160Zm0 220h160v-160H400v160ZM180-400h160v-160H180v160Zm440 0h160v-160H620v160ZM180-180h160v-160H180v160Zm440 0h160v-160H620v160Z\"/>\n",
              "  </svg>\n",
              "    </button>\n",
              "\n",
              "  <style>\n",
              "    .colab-df-container {\n",
              "      display:flex;\n",
              "      gap: 12px;\n",
              "    }\n",
              "\n",
              "    .colab-df-convert {\n",
              "      background-color: #E8F0FE;\n",
              "      border: none;\n",
              "      border-radius: 50%;\n",
              "      cursor: pointer;\n",
              "      display: none;\n",
              "      fill: #1967D2;\n",
              "      height: 32px;\n",
              "      padding: 0 0 0 0;\n",
              "      width: 32px;\n",
              "    }\n",
              "\n",
              "    .colab-df-convert:hover {\n",
              "      background-color: #E2EBFA;\n",
              "      box-shadow: 0px 1px 2px rgba(60, 64, 67, 0.3), 0px 1px 3px 1px rgba(60, 64, 67, 0.15);\n",
              "      fill: #174EA6;\n",
              "    }\n",
              "\n",
              "    .colab-df-buttons div {\n",
              "      margin-bottom: 4px;\n",
              "    }\n",
              "\n",
              "    [theme=dark] .colab-df-convert {\n",
              "      background-color: #3B4455;\n",
              "      fill: #D2E3FC;\n",
              "    }\n",
              "\n",
              "    [theme=dark] .colab-df-convert:hover {\n",
              "      background-color: #434B5C;\n",
              "      box-shadow: 0px 1px 3px 1px rgba(0, 0, 0, 0.15);\n",
              "      filter: drop-shadow(0px 1px 2px rgba(0, 0, 0, 0.3));\n",
              "      fill: #FFFFFF;\n",
              "    }\n",
              "  </style>\n",
              "\n",
              "    <script>\n",
              "      const buttonEl =\n",
              "        document.querySelector('#df-571c3ae7-7e22-4fca-9317-6c9683851f71 button.colab-df-convert');\n",
              "      buttonEl.style.display =\n",
              "        google.colab.kernel.accessAllowed ? 'block' : 'none';\n",
              "\n",
              "      async function convertToInteractive(key) {\n",
              "        const element = document.querySelector('#df-571c3ae7-7e22-4fca-9317-6c9683851f71');\n",
              "        const dataTable =\n",
              "          await google.colab.kernel.invokeFunction('convertToInteractive',\n",
              "                                                    [key], {});\n",
              "        if (!dataTable) return;\n",
              "\n",
              "        const docLinkHtml = 'Like what you see? Visit the ' +\n",
              "          '<a target=\"_blank\" href=https://colab.research.google.com/notebooks/data_table.ipynb>data table notebook</a>'\n",
              "          + ' to learn more about interactive tables.';\n",
              "        element.innerHTML = '';\n",
              "        dataTable['output_type'] = 'display_data';\n",
              "        await google.colab.output.renderOutput(dataTable, element);\n",
              "        const docLink = document.createElement('div');\n",
              "        docLink.innerHTML = docLinkHtml;\n",
              "        element.appendChild(docLink);\n",
              "      }\n",
              "    </script>\n",
              "  </div>\n",
              "\n",
              "\n",
              "<div id=\"df-36c90dd1-5ce9-47df-a9fa-dcd0c2452df6\">\n",
              "  <button class=\"colab-df-quickchart\" onclick=\"quickchart('df-36c90dd1-5ce9-47df-a9fa-dcd0c2452df6')\"\n",
              "            title=\"Suggest charts\"\n",
              "            style=\"display:none;\">\n",
              "\n",
              "<svg xmlns=\"http://www.w3.org/2000/svg\" height=\"24px\"viewBox=\"0 0 24 24\"\n",
              "     width=\"24px\">\n",
              "    <g>\n",
              "        <path d=\"M19 3H5c-1.1 0-2 .9-2 2v14c0 1.1.9 2 2 2h14c1.1 0 2-.9 2-2V5c0-1.1-.9-2-2-2zM9 17H7v-7h2v7zm4 0h-2V7h2v10zm4 0h-2v-4h2v4z\"/>\n",
              "    </g>\n",
              "</svg>\n",
              "  </button>\n",
              "\n",
              "<style>\n",
              "  .colab-df-quickchart {\n",
              "      --bg-color: #E8F0FE;\n",
              "      --fill-color: #1967D2;\n",
              "      --hover-bg-color: #E2EBFA;\n",
              "      --hover-fill-color: #174EA6;\n",
              "      --disabled-fill-color: #AAA;\n",
              "      --disabled-bg-color: #DDD;\n",
              "  }\n",
              "\n",
              "  [theme=dark] .colab-df-quickchart {\n",
              "      --bg-color: #3B4455;\n",
              "      --fill-color: #D2E3FC;\n",
              "      --hover-bg-color: #434B5C;\n",
              "      --hover-fill-color: #FFFFFF;\n",
              "      --disabled-bg-color: #3B4455;\n",
              "      --disabled-fill-color: #666;\n",
              "  }\n",
              "\n",
              "  .colab-df-quickchart {\n",
              "    background-color: var(--bg-color);\n",
              "    border: none;\n",
              "    border-radius: 50%;\n",
              "    cursor: pointer;\n",
              "    display: none;\n",
              "    fill: var(--fill-color);\n",
              "    height: 32px;\n",
              "    padding: 0;\n",
              "    width: 32px;\n",
              "  }\n",
              "\n",
              "  .colab-df-quickchart:hover {\n",
              "    background-color: var(--hover-bg-color);\n",
              "    box-shadow: 0 1px 2px rgba(60, 64, 67, 0.3), 0 1px 3px 1px rgba(60, 64, 67, 0.15);\n",
              "    fill: var(--button-hover-fill-color);\n",
              "  }\n",
              "\n",
              "  .colab-df-quickchart-complete:disabled,\n",
              "  .colab-df-quickchart-complete:disabled:hover {\n",
              "    background-color: var(--disabled-bg-color);\n",
              "    fill: var(--disabled-fill-color);\n",
              "    box-shadow: none;\n",
              "  }\n",
              "\n",
              "  .colab-df-spinner {\n",
              "    border: 2px solid var(--fill-color);\n",
              "    border-color: transparent;\n",
              "    border-bottom-color: var(--fill-color);\n",
              "    animation:\n",
              "      spin 1s steps(1) infinite;\n",
              "  }\n",
              "\n",
              "  @keyframes spin {\n",
              "    0% {\n",
              "      border-color: transparent;\n",
              "      border-bottom-color: var(--fill-color);\n",
              "      border-left-color: var(--fill-color);\n",
              "    }\n",
              "    20% {\n",
              "      border-color: transparent;\n",
              "      border-left-color: var(--fill-color);\n",
              "      border-top-color: var(--fill-color);\n",
              "    }\n",
              "    30% {\n",
              "      border-color: transparent;\n",
              "      border-left-color: var(--fill-color);\n",
              "      border-top-color: var(--fill-color);\n",
              "      border-right-color: var(--fill-color);\n",
              "    }\n",
              "    40% {\n",
              "      border-color: transparent;\n",
              "      border-right-color: var(--fill-color);\n",
              "      border-top-color: var(--fill-color);\n",
              "    }\n",
              "    60% {\n",
              "      border-color: transparent;\n",
              "      border-right-color: var(--fill-color);\n",
              "    }\n",
              "    80% {\n",
              "      border-color: transparent;\n",
              "      border-right-color: var(--fill-color);\n",
              "      border-bottom-color: var(--fill-color);\n",
              "    }\n",
              "    90% {\n",
              "      border-color: transparent;\n",
              "      border-bottom-color: var(--fill-color);\n",
              "    }\n",
              "  }\n",
              "</style>\n",
              "\n",
              "  <script>\n",
              "    async function quickchart(key) {\n",
              "      const quickchartButtonEl =\n",
              "        document.querySelector('#' + key + ' button');\n",
              "      quickchartButtonEl.disabled = true;  // To prevent multiple clicks.\n",
              "      quickchartButtonEl.classList.add('colab-df-spinner');\n",
              "      try {\n",
              "        const charts = await google.colab.kernel.invokeFunction(\n",
              "            'suggestCharts', [key], {});\n",
              "      } catch (error) {\n",
              "        console.error('Error during call to suggestCharts:', error);\n",
              "      }\n",
              "      quickchartButtonEl.classList.remove('colab-df-spinner');\n",
              "      quickchartButtonEl.classList.add('colab-df-quickchart-complete');\n",
              "    }\n",
              "    (() => {\n",
              "      let quickchartButtonEl =\n",
              "        document.querySelector('#df-36c90dd1-5ce9-47df-a9fa-dcd0c2452df6 button');\n",
              "      quickchartButtonEl.style.display =\n",
              "        google.colab.kernel.accessAllowed ? 'block' : 'none';\n",
              "    })();\n",
              "  </script>\n",
              "</div>\n",
              "\n",
              "    </div>\n",
              "  </div>\n"
            ]
          },
          "metadata": {},
          "execution_count": 53
        }
      ]
    },
    {
      "cell_type": "code",
      "source": [
        "#Women (oxybutynin)\n",
        "df['condition'] = df['condition'].replace('Women (oxybutynin)', 'Urinary Frequency')"
      ],
      "metadata": {
        "id": "RHox5Xo6E5wR"
      },
      "execution_count": null,
      "outputs": []
    },
    {
      "cell_type": "code",
      "source": [
        "#Women (minoxidil)\n",
        "df['condition'] = df['condition'].replace('Women (minoxidil)', 'Not Listed/Other')"
      ],
      "metadata": {
        "id": "uDnAjWEZFXiZ"
      },
      "execution_count": null,
      "outputs": []
    },
    {
      "cell_type": "code",
      "source": [
        "len(sorted(df.condition.unique()))"
      ],
      "metadata": {
        "colab": {
          "base_uri": "https://localhost:8080/"
        },
        "id": "oFpfT0ztFdNn",
        "outputId": "2a63bdd6-57e7-449c-ddbe-ee2ccd964f36"
      },
      "execution_count": null,
      "outputs": [
        {
          "output_type": "execute_result",
          "data": {
            "text/plain": [
              "819"
            ]
          },
          "metadata": {},
          "execution_count": 57
        }
      ]
    },
    {
      "cell_type": "code",
      "source": [
        "sorted(df.condition.unique())"
      ],
      "metadata": {
        "id": "mXDCPemTFf1H"
      },
      "execution_count": null,
      "outputs": []
    },
    {
      "cell_type": "code",
      "source": [
        "#mulation) (phenylephrine\n",
        "df['condition'] = df['condition'].replace('mulation) (phenylephrine', 'Nasal Congestion')"
      ],
      "metadata": {
        "id": "Ff6BNk50Fh6D"
      },
      "execution_count": null,
      "outputs": []
    },
    {
      "cell_type": "code",
      "source": [
        "#ge (amlodipine / valsartan)\n",
        "df[df['condition'] == 'ge (amlodipine / valsartan)']"
      ],
      "metadata": {
        "id": "JE_CbU0XFvOE"
      },
      "execution_count": null,
      "outputs": []
    },
    {
      "cell_type": "code",
      "source": [
        "#ge (amlodipine / valsartan)\n",
        "df['condition'] = df['condition'].replace('ge (amlodipine / valsartan)', 'High Blood Pressure')"
      ],
      "metadata": {
        "id": "fAGHzL71GLVp"
      },
      "execution_count": null,
      "outputs": []
    },
    {
      "cell_type": "code",
      "source": [
        "df.to_csv('drug_data_clean2.csv', index=False)"
      ],
      "metadata": {
        "id": "hkKqkEcCRB7e"
      },
      "execution_count": null,
      "outputs": []
    },
    {
      "cell_type": "markdown",
      "source": [
        "ignore ahmed he is just test primary model"
      ],
      "metadata": {
        "id": "8aXp5QhIosBB"
      }
    }
  ]
}
